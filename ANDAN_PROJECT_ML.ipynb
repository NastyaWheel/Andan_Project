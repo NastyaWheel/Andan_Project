{
 "cells": [
  {
   "cell_type": "code",
   "execution_count": 1,
   "metadata": {},
   "outputs": [],
   "source": [
    "import numpy as np\n",
    "import pandas as pd\n",
    "\n",
    "import scipy.stats as sts\n",
    "import matplotlib.pyplot as plt\n",
    "import seaborn as sns"
   ]
  },
  {
   "cell_type": "code",
   "execution_count": 2,
   "metadata": {},
   "outputs": [],
   "source": [
    "from tqdm.notebook import tqdm\n",
    "from pprint import pprint\n",
    "from statsmodels.stats.weightstats import ztest"
   ]
  },
  {
   "cell_type": "code",
   "execution_count": 3,
   "metadata": {},
   "outputs": [],
   "source": [
    "import requests\n",
    "from bs4 import BeautifulSoup\n",
    "from time import sleep\n",
    "import bs4\n",
    "import re\n",
    "import math\n",
    "import ast"
   ]
  },
  {
   "cell_type": "code",
   "execution_count": 16,
   "metadata": {},
   "outputs": [],
   "source": [
    "from sklearn.preprocessing import MultiLabelBinarizer\n",
    "from sklearn.model_selection import train_test_split\n",
    "from sklearn.linear_model import LinearRegression\n",
    "from sklearn.metrics import mean_squared_error"
   ]
  },
  {
   "cell_type": "code",
   "execution_count": 5,
   "metadata": {},
   "outputs": [],
   "source": [
    "# для красивых графиков\n",
    "\n",
    "%config InlineBackend.figure_format = 'retina'\n",
    "\n",
    "sns.set(style='darkgrid', palette='deep')\n",
    "\n",
    "plt.rcParams['font.size'] = 16\n",
    "plt.rcParams['savefig.format'] = 'pdf'"
   ]
  },
  {
   "cell_type": "code",
   "execution_count": 6,
   "metadata": {},
   "outputs": [
    {
     "data": {
      "text/html": [
       "<div>\n",
       "<style scoped>\n",
       "    .dataframe tbody tr th:only-of-type {\n",
       "        vertical-align: middle;\n",
       "    }\n",
       "\n",
       "    .dataframe tbody tr th {\n",
       "        vertical-align: top;\n",
       "    }\n",
       "\n",
       "    .dataframe thead th {\n",
       "        text-align: right;\n",
       "    }\n",
       "</style>\n",
       "<table border=\"1\" class=\"dataframe\">\n",
       "  <thead>\n",
       "    <tr style=\"text-align: right;\">\n",
       "      <th></th>\n",
       "      <th>artist</th>\n",
       "      <th>country</th>\n",
       "      <th>listeners_lastfm</th>\n",
       "      <th>scrobbles_lastfm</th>\n",
       "      <th>likes</th>\n",
       "      <th>tracks</th>\n",
       "      <th>albums</th>\n",
       "      <th>genres</th>\n",
       "      <th>years_active</th>\n",
       "    </tr>\n",
       "  </thead>\n",
       "  <tbody>\n",
       "    <tr>\n",
       "      <th>0</th>\n",
       "      <td>Coldplay</td>\n",
       "      <td>United Kingdom</td>\n",
       "      <td>5381567.0</td>\n",
       "      <td>360111850.0</td>\n",
       "      <td>1305445</td>\n",
       "      <td>186</td>\n",
       "      <td>60</td>\n",
       "      <td>['rock']</td>\n",
       "      <td>26</td>\n",
       "    </tr>\n",
       "    <tr>\n",
       "      <th>1</th>\n",
       "      <td>Radiohead</td>\n",
       "      <td>United Kingdom</td>\n",
       "      <td>4732528.0</td>\n",
       "      <td>499548797.0</td>\n",
       "      <td>387180</td>\n",
       "      <td>200</td>\n",
       "      <td>42</td>\n",
       "      <td>['indie']</td>\n",
       "      <td>38</td>\n",
       "    </tr>\n",
       "    <tr>\n",
       "      <th>2</th>\n",
       "      <td>Red Hot Chili Peppers</td>\n",
       "      <td>United States</td>\n",
       "      <td>4620835.0</td>\n",
       "      <td>293784041.0</td>\n",
       "      <td>2155459</td>\n",
       "      <td>266</td>\n",
       "      <td>32</td>\n",
       "      <td>['rock']</td>\n",
       "      <td>41</td>\n",
       "    </tr>\n",
       "    <tr>\n",
       "      <th>3</th>\n",
       "      <td>Rihanna</td>\n",
       "      <td>United States</td>\n",
       "      <td>4558193.0</td>\n",
       "      <td>199248986.0</td>\n",
       "      <td>1700983</td>\n",
       "      <td>268</td>\n",
       "      <td>57</td>\n",
       "      <td>['pop', 'dance', 'rnb']</td>\n",
       "      <td>20</td>\n",
       "    </tr>\n",
       "    <tr>\n",
       "      <th>4</th>\n",
       "      <td>Eminem</td>\n",
       "      <td>United States</td>\n",
       "      <td>4517997.0</td>\n",
       "      <td>199507511.0</td>\n",
       "      <td>5278564</td>\n",
       "      <td>396</td>\n",
       "      <td>37</td>\n",
       "      <td>['foreignrap']</td>\n",
       "      <td>35</td>\n",
       "    </tr>\n",
       "    <tr>\n",
       "      <th>...</th>\n",
       "      <td>...</td>\n",
       "      <td>...</td>\n",
       "      <td>...</td>\n",
       "      <td>...</td>\n",
       "      <td>...</td>\n",
       "      <td>...</td>\n",
       "      <td>...</td>\n",
       "      <td>...</td>\n",
       "      <td>...</td>\n",
       "    </tr>\n",
       "    <tr>\n",
       "      <th>3834</th>\n",
       "      <td>Lyn Collins</td>\n",
       "      <td>United States</td>\n",
       "      <td>189533.0</td>\n",
       "      <td>845689.0</td>\n",
       "      <td>109</td>\n",
       "      <td>43</td>\n",
       "      <td>4</td>\n",
       "      <td>['rnb', 'electronics']</td>\n",
       "      <td>43</td>\n",
       "    </tr>\n",
       "    <tr>\n",
       "      <th>3835</th>\n",
       "      <td>Saigon</td>\n",
       "      <td>United States</td>\n",
       "      <td>189479.0</td>\n",
       "      <td>1939393.0</td>\n",
       "      <td>82</td>\n",
       "      <td>298</td>\n",
       "      <td>42</td>\n",
       "      <td>['rap', 'pop', 'african']</td>\n",
       "      <td>23</td>\n",
       "    </tr>\n",
       "    <tr>\n",
       "      <th>3836</th>\n",
       "      <td>Kwabs</td>\n",
       "      <td>United Kingdom</td>\n",
       "      <td>189460.0</td>\n",
       "      <td>1655444.0</td>\n",
       "      <td>1207967</td>\n",
       "      <td>28</td>\n",
       "      <td>8</td>\n",
       "      <td>['soul']</td>\n",
       "      <td>12</td>\n",
       "    </tr>\n",
       "    <tr>\n",
       "      <th>3837</th>\n",
       "      <td>Diablo Swing Orchestra</td>\n",
       "      <td>Sweden</td>\n",
       "      <td>189429.0</td>\n",
       "      <td>8016066.0</td>\n",
       "      <td>15532</td>\n",
       "      <td>60</td>\n",
       "      <td>5</td>\n",
       "      <td>['progmetal']</td>\n",
       "      <td>20</td>\n",
       "    </tr>\n",
       "    <tr>\n",
       "      <th>3838</th>\n",
       "      <td>Despised Icon</td>\n",
       "      <td>Canada</td>\n",
       "      <td>189417.0</td>\n",
       "      <td>7813420.0</td>\n",
       "      <td>3009</td>\n",
       "      <td>61</td>\n",
       "      <td>3</td>\n",
       "      <td>['metalcoregenre']</td>\n",
       "      <td>17</td>\n",
       "    </tr>\n",
       "  </tbody>\n",
       "</table>\n",
       "<p>3839 rows × 9 columns</p>\n",
       "</div>"
      ],
      "text/plain": [
       "                      artist         country  listeners_lastfm  \\\n",
       "0                   Coldplay  United Kingdom         5381567.0   \n",
       "1                  Radiohead  United Kingdom         4732528.0   \n",
       "2      Red Hot Chili Peppers   United States         4620835.0   \n",
       "3                    Rihanna   United States         4558193.0   \n",
       "4                     Eminem   United States         4517997.0   \n",
       "...                      ...             ...               ...   \n",
       "3834             Lyn Collins   United States          189533.0   \n",
       "3835                  Saigon   United States          189479.0   \n",
       "3836                   Kwabs  United Kingdom          189460.0   \n",
       "3837  Diablo Swing Orchestra          Sweden          189429.0   \n",
       "3838           Despised Icon          Canada          189417.0   \n",
       "\n",
       "      scrobbles_lastfm    likes  tracks  albums                     genres  \\\n",
       "0          360111850.0  1305445     186      60                   ['rock']   \n",
       "1          499548797.0   387180     200      42                  ['indie']   \n",
       "2          293784041.0  2155459     266      32                   ['rock']   \n",
       "3          199248986.0  1700983     268      57    ['pop', 'dance', 'rnb']   \n",
       "4          199507511.0  5278564     396      37             ['foreignrap']   \n",
       "...                ...      ...     ...     ...                        ...   \n",
       "3834          845689.0      109      43       4     ['rnb', 'electronics']   \n",
       "3835         1939393.0       82     298      42  ['rap', 'pop', 'african']   \n",
       "3836         1655444.0  1207967      28       8                   ['soul']   \n",
       "3837         8016066.0    15532      60       5              ['progmetal']   \n",
       "3838         7813420.0     3009      61       3         ['metalcoregenre']   \n",
       "\n",
       "      years_active  \n",
       "0               26  \n",
       "1               38  \n",
       "2               41  \n",
       "3               20  \n",
       "4               35  \n",
       "...            ...  \n",
       "3834            43  \n",
       "3835            23  \n",
       "3836            12  \n",
       "3837            20  \n",
       "3838            17  \n",
       "\n",
       "[3839 rows x 9 columns]"
      ]
     },
     "execution_count": 6,
     "metadata": {},
     "output_type": "execute_result"
    }
   ],
   "source": [
    "df = pd.read_csv(\"eda_data.csv\")\n",
    "df"
   ]
  },
  {
   "attachments": {},
   "cell_type": "markdown",
   "metadata": {},
   "source": [
    "# Шаг 5. Создание новых признаков"
   ]
  },
  {
   "attachments": {},
   "cell_type": "markdown",
   "metadata": {},
   "source": [
    "Для начала в соответствии с графиками в EDA, добавим прологарифмированные переменные, чтобы улучшить их вид."
   ]
  },
  {
   "cell_type": "code",
   "execution_count": 7,
   "metadata": {},
   "outputs": [],
   "source": [
    "df['log_listeners'] = np.log(df.listeners_lastfm)\n",
    "df['log_scrobbles'] = np.log(df.scrobbles_lastfm)\n",
    "df['log_likes'] = np.log(df.likes)\n",
    "df['log_tracks'] = np.log(df.tracks)"
   ]
  },
  {
   "attachments": {},
   "cell_type": "markdown",
   "metadata": {},
   "source": [
    "Изначально мы хотели предсказывать кол-во лайков, но давайте предсказывть лучше логарифм, потому что нам было бы важнее для задачи угадывать с порядком числа, то есть по сути: является группа более любимой для слушателей, или менее."
   ]
  },
  {
   "attachments": {},
   "cell_type": "markdown",
   "metadata": {},
   "source": [
    "Глобально мы хотим предсказывать переменную связанную с лайками, поэтому в создании признаков больше ее мы трогать не будем, чтобы не допустить утечки таргета."
   ]
  },
  {
   "attachments": {},
   "cell_type": "markdown",
   "metadata": {},
   "source": [
    "Можно завести переменные, означающие отношение одной колонки к другой. Например это может быть отношение кол-во слушателей, кол-во скробблов, треков и альбомов к годам активности группы. А также отношение их логарифмов к годам. Это может быть важно, потому что группа может быть очень продуктивной в течение своего небольшого времени активности и написать мало альбомов, а может написать альбомов немногим большее кол-во, но за промежуток времени в 2 раза больший. Возможно первая группа будет более популярна, потому что музыка это не только про вдохновение, но и хороший менеджмент и энергию исполнителей."
   ]
  },
  {
   "cell_type": "code",
   "execution_count": 8,
   "metadata": {},
   "outputs": [],
   "source": [
    "df['listeners_per_years'] = df.listeners_lastfm / df.years_active\n",
    "df['scrobbles_per_years'] = df.scrobbles_lastfm / df.years_active\n",
    "df['tracks_per_years'] = df.tracks / df.years_active\n",
    "df['albums_per_years'] = df.albums / df.years_active\n",
    "\n",
    "df['log_listeners_per_years'] = df.log_listeners / df.years_active\n",
    "df['log_scrobbles_per_years'] = df.log_scrobbles / df.years_active\n",
    "df['log_tracks_per_years'] = df.log_tracks / df.years_active"
   ]
  },
  {
   "attachments": {},
   "cell_type": "markdown",
   "metadata": {},
   "source": [
    "Можно посмотреть на то, сколько треков содержится в среднем в одном альбоме."
   ]
  },
  {
   "cell_type": "code",
   "execution_count": 9,
   "metadata": {},
   "outputs": [],
   "source": [
    "df['tracks_per_album'] = df.tracks / df.albums"
   ]
  },
  {
   "attachments": {},
   "cell_type": "markdown",
   "metadata": {},
   "source": [
    "Кроме того, при парсинге данных мы не включили в данные год начала группы и год завершения выступлений. Давайте добавим их."
   ]
  },
  {
   "cell_type": "code",
   "execution_count": 10,
   "metadata": {},
   "outputs": [
    {
     "data": {
      "text/html": [
       "<div>\n",
       "<style scoped>\n",
       "    .dataframe tbody tr th:only-of-type {\n",
       "        vertical-align: middle;\n",
       "    }\n",
       "\n",
       "    .dataframe tbody tr th {\n",
       "        vertical-align: top;\n",
       "    }\n",
       "\n",
       "    .dataframe thead th {\n",
       "        text-align: right;\n",
       "    }\n",
       "</style>\n",
       "<table border=\"1\" class=\"dataframe\">\n",
       "  <thead>\n",
       "    <tr style=\"text-align: right;\">\n",
       "      <th></th>\n",
       "      <th>artist_mb</th>\n",
       "      <th>parsed_data</th>\n",
       "    </tr>\n",
       "  </thead>\n",
       "  <tbody>\n",
       "    <tr>\n",
       "      <th>0</th>\n",
       "      <td>Coldplay</td>\n",
       "      <td>&lt;td class=\"infobox-data\"&gt;1997–present&lt;/td&gt;</td>\n",
       "    </tr>\n",
       "    <tr>\n",
       "      <th>1</th>\n",
       "      <td>Radiohead</td>\n",
       "      <td>&lt;td class=\"infobox-data\"&gt;1985–present&lt;/td&gt;</td>\n",
       "    </tr>\n",
       "    <tr>\n",
       "      <th>2</th>\n",
       "      <td>Red Hot Chili Peppers</td>\n",
       "      <td>&lt;td class=\"infobox-data\"&gt;1982&lt;span style=\"disp...</td>\n",
       "    </tr>\n",
       "    <tr>\n",
       "      <th>3</th>\n",
       "      <td>Rihanna</td>\n",
       "      <td>&lt;td class=\"infobox-data\"&gt;2003–present&lt;/td&gt;</td>\n",
       "    </tr>\n",
       "    <tr>\n",
       "      <th>4</th>\n",
       "      <td>Eminem</td>\n",
       "      <td>&lt;td class=\"infobox-data\"&gt;1988–present&lt;sup clas...</td>\n",
       "    </tr>\n",
       "    <tr>\n",
       "      <th>...</th>\n",
       "      <td>...</td>\n",
       "      <td>...</td>\n",
       "    </tr>\n",
       "    <tr>\n",
       "      <th>4857</th>\n",
       "      <td>Kwabs</td>\n",
       "      <td>&lt;td class=\"infobox-data\"&gt;2011–present&lt;/td&gt;</td>\n",
       "    </tr>\n",
       "    <tr>\n",
       "      <th>4858</th>\n",
       "      <td>Astral Projection</td>\n",
       "      <td>&lt;td class=\"infobox-data\"&gt;1993–present&lt;/td&gt;</td>\n",
       "    </tr>\n",
       "    <tr>\n",
       "      <th>4859</th>\n",
       "      <td>Diablo Swing Orchestra</td>\n",
       "      <td>&lt;td class=\"infobox-data\"&gt;2003–present&lt;/td&gt;</td>\n",
       "    </tr>\n",
       "    <tr>\n",
       "      <th>4860</th>\n",
       "      <td>Despised Icon</td>\n",
       "      <td>&lt;td class=\"infobox-data\"&gt;2002–2010, 2014–prese...</td>\n",
       "    </tr>\n",
       "    <tr>\n",
       "      <th>4861</th>\n",
       "      <td>Samuel E. Wright</td>\n",
       "      <td>&lt;td class=\"infobox-data\"&gt;1968–2008&lt;/td&gt;</td>\n",
       "    </tr>\n",
       "  </tbody>\n",
       "</table>\n",
       "<p>4862 rows × 2 columns</p>\n",
       "</div>"
      ],
      "text/plain": [
       "                   artist_mb  \\\n",
       "0                   Coldplay   \n",
       "1                  Radiohead   \n",
       "2      Red Hot Chili Peppers   \n",
       "3                    Rihanna   \n",
       "4                     Eminem   \n",
       "...                      ...   \n",
       "4857                   Kwabs   \n",
       "4858       Astral Projection   \n",
       "4859  Diablo Swing Orchestra   \n",
       "4860           Despised Icon   \n",
       "4861        Samuel E. Wright   \n",
       "\n",
       "                                            parsed_data  \n",
       "0            <td class=\"infobox-data\">1997–present</td>  \n",
       "1            <td class=\"infobox-data\">1985–present</td>  \n",
       "2     <td class=\"infobox-data\">1982<span style=\"disp...  \n",
       "3            <td class=\"infobox-data\">2003–present</td>  \n",
       "4     <td class=\"infobox-data\">1988–present<sup clas...  \n",
       "...                                                 ...  \n",
       "4857         <td class=\"infobox-data\">2011–present</td>  \n",
       "4858         <td class=\"infobox-data\">1993–present</td>  \n",
       "4859         <td class=\"infobox-data\">2003–present</td>  \n",
       "4860  <td class=\"infobox-data\">2002–2010, 2014–prese...  \n",
       "4861            <td class=\"infobox-data\">1968–2008</td>  \n",
       "\n",
       "[4862 rows x 2 columns]"
      ]
     },
     "execution_count": 10,
     "metadata": {},
     "output_type": "execute_result"
    }
   ],
   "source": [
    "df_tags = pd.read_csv(\"big_lst_5000.csv\", index_col=0)\n",
    "df_tags"
   ]
  },
  {
   "attachments": {},
   "cell_type": "markdown",
   "metadata": {},
   "source": [
    "Воспользуемся кодом из предыдущих тетрадок."
   ]
  },
  {
   "cell_type": "code",
   "execution_count": 11,
   "metadata": {},
   "outputs": [],
   "source": [
    "def get_intervals(raw_intervals):\n",
    "    intervals = []\n",
    "    # split by '-'\n",
    "    left_rights = re.findall(r'\\S+–\\S+', raw_intervals)\n",
    "    for left_right in left_rights:\n",
    "        parts = left_right.split('–')\n",
    "        clean_parts = tuple(re.findall(r'(?:\\d{4}|present)', part)[0] for part in parts)\n",
    "        clean_parts_without_present = tuple(2023 if part == 'present' else int(part) for part in clean_parts)\n",
    "        intervals.append(clean_parts_without_present)\n",
    "    return intervals\n",
    "\n",
    "def parse_years_text(s):\n",
    "    # check hiaustes\n",
    "    main_and_hiatuses = s.split('hiatus')\n",
    "    main = main_and_hiatuses[0]\n",
    "    hiastuses = ''\n",
    "    if len(main_and_hiatuses) > 1:\n",
    "        hiastuses = main_and_hiatuses[1]\n",
    "\n",
    "    main_intervals = get_intervals(main)\n",
    "    hiastuses_intervals = get_intervals(hiastuses)\n",
    "        \n",
    "    return main_intervals, hiastuses_intervals\n",
    "\n",
    "def get_first_year(tag):\n",
    "    try:\n",
    "        years = bs4.BeautifulSoup(tag)\n",
    "        intervals, _ = parse_years_text(years.text)\n",
    "        return intervals[0][0]\n",
    "    except:\n",
    "        return None\n",
    "    \n",
    "def get_last_year(tag):\n",
    "    try:\n",
    "        years = bs4.BeautifulSoup(tag)\n",
    "        intervals, _ = parse_years_text(years.text)\n",
    "        return intervals[-1][1]\n",
    "    except:\n",
    "        return None\n",
    "\n"
   ]
  },
  {
   "cell_type": "code",
   "execution_count": 12,
   "metadata": {},
   "outputs": [],
   "source": [
    "# df['first_year'] = \n",
    "# for _, row in df:\n",
    "#     tag = df_tags[df_tags == row.artist].tag\n",
    "#     dfget_last_year(x)).isna().sum()"
   ]
  },
  {
   "attachments": {},
   "cell_type": "markdown",
   "metadata": {},
   "source": [
    "### Шаг 7: Машинное обучение"
   ]
  },
  {
   "cell_type": "code",
   "execution_count": 13,
   "metadata": {},
   "outputs": [],
   "source": [
    "# удаляем колонку с артистами, потому что это никак не поможет модели\n",
    "df = df.drop('artist', axis=1)"
   ]
  },
  {
   "cell_type": "code",
   "execution_count": 14,
   "metadata": {},
   "outputs": [],
   "source": [
    "# удаляем колонку с жанрами\n",
    "df = df.drop('genres', axis=1)"
   ]
  },
  {
   "cell_type": "code",
   "execution_count": 15,
   "metadata": {},
   "outputs": [
    {
     "data": {
      "text/plain": [
       "(3839, 45)"
      ]
     },
     "execution_count": 15,
     "metadata": {},
     "output_type": "execute_result"
    }
   ],
   "source": [
    "# One Hot Encoding для country\n",
    "df = pd.get_dummies(df, columns=['country'])\n",
    "df.shape"
   ]
  },
  {
   "cell_type": "code",
   "execution_count": 15,
   "metadata": {},
   "outputs": [
    {
     "data": {
      "text/plain": [
       "(3839, 76)"
      ]
     },
     "execution_count": 15,
     "metadata": {},
     "output_type": "execute_result"
    }
   ],
   "source": [
    "# mlb = MultiLabelBinarizer()\n",
    "# data_ohe = data_ohe.join(pd.DataFrame(mlb.fit_transform(data_ohe.pop('genres')),\n",
    "#                           columns=mlb.classes_,\n",
    "#                           index=data_ohe.index))\n",
    "# data_ohe.shape"
   ]
  },
  {
   "cell_type": "code",
   "execution_count": 19,
   "metadata": {},
   "outputs": [
    {
     "data": {
      "text/plain": [
       "3.2067663282706422"
      ]
     },
     "execution_count": 19,
     "metadata": {},
     "output_type": "execute_result"
    }
   ],
   "source": [
    "X = df.drop(['likes', 'log_likes'], axis=1)\n",
    "y = df['log_likes']\n",
    "\n",
    "X_train, X_test, y_train, y_test = train_test_split(X, y, test_size=0.2, random_state=42)\n",
    "\n",
    "model = LinearRegression()\n",
    "model.fit(X_train, y_train)\n",
    "\n",
    "y_pred = model.predict(X_test)\n",
    "\n",
    "mse = mean_squared_error(y_test, y_pred)\n",
    "mse"
   ]
  },
  {
   "attachments": {},
   "cell_type": "markdown",
   "metadata": {},
   "source": [
    "Это модель-бейзлайн. Предсказываем mse."
   ]
  }
 ],
 "metadata": {
  "kernelspec": {
   "display_name": "base",
   "language": "python",
   "name": "python3"
  },
  "language_info": {
   "codemirror_mode": {
    "name": "ipython",
    "version": 3
   },
   "file_extension": ".py",
   "mimetype": "text/x-python",
   "name": "python",
   "nbconvert_exporter": "python",
   "pygments_lexer": "ipython3",
   "version": "3.9.13"
  },
  "orig_nbformat": 4
 },
 "nbformat": 4,
 "nbformat_minor": 2
}
